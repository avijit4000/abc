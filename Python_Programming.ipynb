{
 "cells": [
  {
   "cell_type": "markdown",
   "id": "da97e8ad",
   "metadata": {
    "id": "da97e8ad"
   },
   "source": [
    "# Chapter 1 - First Python Programming"
   ]
  },
  {
   "cell_type": "markdown",
   "id": "167f9c1c",
   "metadata": {
    "id": "167f9c1c"
   },
   "source": [
    "## 1[a] Hello World"
   ]
  },
  {
   "cell_type": "code",
   "execution_count": null,
   "id": "f9eccb44",
   "metadata": {
    "id": "f9eccb44",
    "outputId": "44571436-6be9-4436-8b71-c390ad3c9806"
   },
   "outputs": [
    {
     "name": "stdout",
     "output_type": "stream",
     "text": [
      "AI is session is going good for now.\n"
     ]
    }
   ],
   "source": [
    "print('AI is session is going good for now.')"
   ]
  },
  {
   "cell_type": "code",
   "execution_count": null,
   "id": "c85c18e4",
   "metadata": {
    "id": "c85c18e4",
    "outputId": "abe0bdc1-5cbc-486f-ad52-15d2fd498807"
   },
   "outputs": [
    {
     "name": "stdout",
     "output_type": "stream",
     "text": [
      "Amrutha replied,John's session is bit boring.\n"
     ]
    }
   ],
   "source": [
    "print(\"Amrutha replied,John's session is bit boring.\")"
   ]
  },
  {
   "cell_type": "code",
   "execution_count": null,
   "id": "6acb27ad",
   "metadata": {
    "id": "6acb27ad",
    "outputId": "f5f5699a-fcaa-4fcc-e91a-8640137ffcf5"
   },
   "outputs": [
    {
     "name": "stdout",
     "output_type": "stream",
     "text": [
      "Amrutha replied,\"John's session is bit boring\".\n"
     ]
    }
   ],
   "source": [
    "print(\"\"\"Amrutha replied,\"John's session is bit boring\".\"\"\")"
   ]
  },
  {
   "cell_type": "markdown",
   "id": "85734e70",
   "metadata": {
    "id": "85734e70"
   },
   "source": [
    "## 1[b] Create a Variable"
   ]
  },
  {
   "cell_type": "code",
   "execution_count": null,
   "id": "22e91310",
   "metadata": {
    "id": "22e91310",
    "outputId": "2e59255d-9a3a-4388-af26-3f44aa6acec2"
   },
   "outputs": [
    {
     "data": {
      "text/plain": [
       "['Amrutha', 'Bhupendra', 'Jamuna', 'Khushbu', 'Mukesh', 'Shefalie']"
      ]
     },
     "execution_count": 19,
     "metadata": {},
     "output_type": "execute_result"
    }
   ],
   "source": [
    "participants = ['Amrutha','Bhupendra','Jamuna','Khushbu','Mukesh','Shefalie']\n",
    "participants"
   ]
  },
  {
   "cell_type": "code",
   "execution_count": null,
   "id": "4d6c9371",
   "metadata": {
    "id": "4d6c9371",
    "outputId": "2033142c-1a77-418b-a683-25eccac9ef3f"
   },
   "outputs": [
    {
     "data": {
      "text/plain": [
       "6"
      ]
     },
     "execution_count": 20,
     "metadata": {},
     "output_type": "execute_result"
    }
   ],
   "source": [
    "len(participants)"
   ]
  },
  {
   "cell_type": "code",
   "execution_count": null,
   "id": "4936f5fd",
   "metadata": {
    "id": "4936f5fd",
    "outputId": "376b752f-76ba-440a-e490-8f74cfb89f51"
   },
   "outputs": [
    {
     "data": {
      "text/plain": [
       "['Mukesh', 'Shefalie']"
      ]
     },
     "execution_count": 21,
     "metadata": {},
     "output_type": "execute_result"
    }
   ],
   "source": [
    "participants[4:] "
   ]
  },
  {
   "cell_type": "markdown",
   "id": "ccf55666",
   "metadata": {
    "id": "ccf55666"
   },
   "source": [
    "### NOTE: Index Number in Python starts with 0."
   ]
  },
  {
   "cell_type": "markdown",
   "id": "a1c123be",
   "metadata": {
    "id": "a1c123be"
   },
   "source": [
    "## ========================================================================"
   ]
  },
  {
   "cell_type": "markdown",
   "id": "2e00c6d8",
   "metadata": {
    "id": "2e00c6d8"
   },
   "source": [
    "# Chapter 2 - Strings and String Methods"
   ]
  },
  {
   "cell_type": "markdown",
   "id": "f532ae1c",
   "metadata": {
    "id": "f532ae1c"
   },
   "source": [
    "### 3 datatypes in Python\n",
    "\n",
    "1. Int - Integer - numbers without decimal\n",
    "2. Float - with decimal numbers\n",
    "3. String - anything which is enclosed within quotes."
   ]
  },
  {
   "cell_type": "markdown",
   "id": "e6e2efc8",
   "metadata": {
    "id": "e6e2efc8"
   },
   "source": [
    "## 2[a] What is a String?"
   ]
  },
  {
   "cell_type": "code",
   "execution_count": null,
   "id": "751f1ad7",
   "metadata": {
    "id": "751f1ad7"
   },
   "outputs": [],
   "source": [
    "india_score = 368"
   ]
  },
  {
   "cell_type": "code",
   "execution_count": null,
   "id": "195090ba",
   "metadata": {
    "id": "195090ba",
    "outputId": "a64f9382-87e5-4ac0-972e-de0d96eb9609"
   },
   "outputs": [
    {
     "data": {
      "text/plain": [
       "int"
      ]
     },
     "execution_count": 5,
     "metadata": {},
     "output_type": "execute_result"
    }
   ],
   "source": [
    "type(india_score)"
   ]
  },
  {
   "cell_type": "code",
   "execution_count": null,
   "id": "cfb93d7a",
   "metadata": {
    "id": "cfb93d7a"
   },
   "outputs": [],
   "source": [
    "avg_marks = '96.55'"
   ]
  },
  {
   "cell_type": "code",
   "execution_count": null,
   "id": "235438c5",
   "metadata": {
    "id": "235438c5",
    "outputId": "c6c485a6-533d-4735-f17e-c6dfe47c6d3f"
   },
   "outputs": [
    {
     "data": {
      "text/plain": [
       "str"
      ]
     },
     "execution_count": 7,
     "metadata": {},
     "output_type": "execute_result"
    }
   ],
   "source": [
    "type(avg_marks)"
   ]
  },
  {
   "cell_type": "code",
   "execution_count": null,
   "id": "65c266f7",
   "metadata": {
    "id": "65c266f7"
   },
   "outputs": [],
   "source": [
    "avg_marks_2 = 96.55"
   ]
  },
  {
   "cell_type": "code",
   "execution_count": null,
   "id": "7ab82760",
   "metadata": {
    "id": "7ab82760",
    "outputId": "ea77ec4d-a097-47b7-929a-a5ba4e4cb90a"
   },
   "outputs": [
    {
     "data": {
      "text/plain": [
       "float"
      ]
     },
     "execution_count": 9,
     "metadata": {},
     "output_type": "execute_result"
    }
   ],
   "source": [
    "type(avg_marks_2)"
   ]
  },
  {
   "cell_type": "markdown",
   "id": "a4e0b27a",
   "metadata": {
    "id": "a4e0b27a"
   },
   "source": [
    "## 2[b] Concatenation - Indexing - Slicing"
   ]
  },
  {
   "cell_type": "code",
   "execution_count": null,
   "id": "dbf90e55",
   "metadata": {
    "id": "dbf90e55"
   },
   "outputs": [],
   "source": [
    "fname = 'Mukesh'\n",
    "mid_name = 'avatar'\n",
    "lname = 'Madesia'"
   ]
  },
  {
   "cell_type": "code",
   "execution_count": null,
   "id": "4d9bb2e7",
   "metadata": {
    "id": "4d9bb2e7",
    "outputId": "2e64337f-6eeb-407d-d236-16a485744087"
   },
   "outputs": [
    {
     "name": "stdout",
     "output_type": "stream",
     "text": [
      "Mukesh\n",
      "avatar\n",
      "Madesia\n"
     ]
    }
   ],
   "source": [
    "print(fname)\n",
    "print(mid_name)\n",
    "print(lname)"
   ]
  },
  {
   "cell_type": "code",
   "execution_count": null,
   "id": "f31e31fa",
   "metadata": {
    "id": "f31e31fa",
    "outputId": "3f67326c-1a8f-41e8-e393-9c6e20fe9584"
   },
   "outputs": [
    {
     "data": {
      "text/plain": [
       "('Mukesh', 'avatar', 'Madesia')"
      ]
     },
     "execution_count": 17,
     "metadata": {},
     "output_type": "execute_result"
    }
   ],
   "source": [
    "fname,mid_name,lname"
   ]
  },
  {
   "cell_type": "code",
   "execution_count": null,
   "id": "ed2ac500",
   "metadata": {
    "id": "ed2ac500",
    "outputId": "ec5c11d5-54d1-472e-922c-aa84cb734d0d"
   },
   "outputs": [
    {
     "data": {
      "text/plain": [
       "'MukeshMadesia'"
      ]
     },
     "execution_count": 21,
     "metadata": {},
     "output_type": "execute_result"
    }
   ],
   "source": [
    "fname + lname"
   ]
  },
  {
   "cell_type": "code",
   "execution_count": null,
   "id": "5e07566b",
   "metadata": {
    "id": "5e07566b",
    "outputId": "39360b1e-880d-47cd-f981-5ee4233a0229"
   },
   "outputs": [
    {
     "name": "stdout",
     "output_type": "stream",
     "text": [
      "Mukesh Madesia\n"
     ]
    }
   ],
   "source": [
    "print(fname + ' ' + lname) #Concatenation"
   ]
  },
  {
   "cell_type": "code",
   "execution_count": null,
   "id": "ec60737a",
   "metadata": {
    "id": "ec60737a",
    "outputId": "fd81594d-335b-401a-d4a9-b0d0a79a014a"
   },
   "outputs": [
    {
     "name": "stdout",
     "output_type": "stream",
     "text": [
      "Mukesh avatar Madesia.\n"
     ]
    }
   ],
   "source": [
    "print(fname + ' ' + mid_name + ' ' + lname + '.')"
   ]
  },
  {
   "cell_type": "code",
   "execution_count": null,
   "id": "e784e244",
   "metadata": {
    "id": "e784e244"
   },
   "outputs": [],
   "source": [
    "fname = 'Mukesh'\n",
    "mid_name = 'avatar'\n",
    "lname = 'Madesia'\n",
    "age = 35"
   ]
  },
  {
   "cell_type": "code",
   "execution_count": null,
   "id": "e1db64b7",
   "metadata": {
    "id": "e1db64b7",
    "outputId": "940f4017-3f01-42f2-d96c-6d945af89af8"
   },
   "outputs": [
    {
     "name": "stdout",
     "output_type": "stream",
     "text": [
      "The name is Mukesh avatar Madesia and age is 35\n"
     ]
    }
   ],
   "source": [
    "print('The name is ' + fname + ' ' + mid_name + ' ' + lname + ' and age is ' + str(age)) #Typecasting"
   ]
  },
  {
   "cell_type": "code",
   "execution_count": null,
   "id": "8ee89a02",
   "metadata": {
    "id": "8ee89a02",
    "outputId": "b026c7d8-5981-455c-d8e6-3c9e3b15f64f"
   },
   "outputs": [
    {
     "name": "stdout",
     "output_type": "stream",
     "text": [
      "The name is Mukesh avatar Madesia and age is 35\n"
     ]
    }
   ],
   "source": [
    "print('The name is',fname,mid_name,lname,'and age is',age)"
   ]
  },
  {
   "cell_type": "code",
   "execution_count": null,
   "id": "424f0c0c",
   "metadata": {
    "id": "424f0c0c",
    "outputId": "4a93663c-db77-41f1-f091-1aec8d4678d1"
   },
   "outputs": [
    {
     "data": {
      "text/plain": [
       "'Shefalie and Khushbu are quick learners.'"
      ]
     },
     "execution_count": 40,
     "metadata": {},
     "output_type": "execute_result"
    }
   ],
   "source": [
    "trainer_feedback = 'Shefalie and Khushbu are quick learners.'\n",
    "trainer_feedback"
   ]
  },
  {
   "cell_type": "code",
   "execution_count": null,
   "id": "3e8eb524",
   "metadata": {
    "id": "3e8eb524",
    "outputId": "c7d802ea-b043-4646-d7fc-5831e95768f2"
   },
   "outputs": [
    {
     "data": {
      "text/plain": [
       "'alie and Khushbu are quick learners.'"
      ]
     },
     "execution_count": 43,
     "metadata": {},
     "output_type": "execute_result"
    }
   ],
   "source": [
    "trainer_feedback[4:]"
   ]
  },
  {
   "cell_type": "code",
   "execution_count": null,
   "id": "e4787d64",
   "metadata": {
    "id": "e4787d64",
    "outputId": "9df72daa-44df-4335-f947-7ec0da851d1d"
   },
   "outputs": [
    {
     "data": {
      "text/plain": [
       "'alie a'"
      ]
     },
     "execution_count": 44,
     "metadata": {},
     "output_type": "execute_result"
    }
   ],
   "source": [
    "trainer_feedback[4:10]"
   ]
  },
  {
   "cell_type": "markdown",
   "id": "325b09ea",
   "metadata": {
    "id": "325b09ea"
   },
   "source": [
    "## 2[c] Manipulate string with string methods"
   ]
  },
  {
   "cell_type": "markdown",
   "id": "fe64da66",
   "metadata": {
    "id": "fe64da66"
   },
   "source": [
    "**Methods/Functions** - It is an operation getting applied on the variable and it always ends with **().**"
   ]
  },
  {
   "cell_type": "code",
   "execution_count": null,
   "id": "c0849350",
   "metadata": {
    "id": "c0849350"
   },
   "outputs": [],
   "source": [
    "learner_1 = 'amrutha'\n",
    "learner_2 = '     natarajan'\n",
    "learner_3 = 'Jamuna       '\n",
    "learner_4 = '     bhupendra     '"
   ]
  },
  {
   "cell_type": "code",
   "execution_count": null,
   "id": "379ab638",
   "metadata": {
    "id": "379ab638",
    "outputId": "a6bb82e6-4651-494f-f325-8a2bdb41141d"
   },
   "outputs": [
    {
     "data": {
      "text/plain": [
       "(7, 14, 13, 19)"
      ]
     },
     "execution_count": 50,
     "metadata": {},
     "output_type": "execute_result"
    }
   ],
   "source": [
    "len(learner_1),len(learner_2),len(learner_3),len(learner_4)"
   ]
  },
  {
   "cell_type": "code",
   "execution_count": null,
   "id": "3a61ba3f",
   "metadata": {
    "id": "3a61ba3f"
   },
   "outputs": [],
   "source": [
    "learner_1 = learner_1.capitalize()\n",
    "learner_2 = learner_2.lstrip()\n",
    "learner_3 = learner_3.rstrip()\n",
    "learner_4 = learner_4.strip()"
   ]
  },
  {
   "cell_type": "code",
   "execution_count": null,
   "id": "ea0171d0",
   "metadata": {
    "id": "ea0171d0",
    "outputId": "074ff2e5-b3c2-455b-c152-8ec71d9c7fca"
   },
   "outputs": [
    {
     "name": "stdout",
     "output_type": "stream",
     "text": [
      "Amrutha\n",
      "natarajan\n",
      "Jamuna\n",
      "bhupendra\n"
     ]
    }
   ],
   "source": [
    "print(learner_1)\n",
    "print(learner_2)\n",
    "print(learner_3)\n",
    "print(learner_4)"
   ]
  },
  {
   "cell_type": "markdown",
   "id": "3f1a6504",
   "metadata": {
    "id": "3f1a6504"
   },
   "source": [
    "# NOTE : DONT USE KEYWORD as a VARIABLE NAME."
   ]
  },
  {
   "cell_type": "code",
   "execution_count": null,
   "id": "91cbdcd5",
   "metadata": {
    "id": "91cbdcd5",
    "outputId": "044d1fd0-a49b-441a-c7e9-0d97ea7a97a6"
   },
   "outputs": [
    {
     "data": {
      "text/plain": [
       "' Hi Hello'"
      ]
     },
     "execution_count": 70,
     "metadata": {},
     "output_type": "execute_result"
    }
   ],
   "source": [
    "str =' Hi Hello'\n",
    "str #Keyword "
   ]
  },
  {
   "cell_type": "markdown",
   "id": "e64a1a96",
   "metadata": {
    "id": "e64a1a96"
   },
   "source": [
    "### TASK 1: Come up with 2 examples for all string functions."
   ]
  },
  {
   "cell_type": "markdown",
   "id": "23edeeec",
   "metadata": {
    "id": "23edeeec"
   },
   "source": [
    "## 2[d] Interact with user-input"
   ]
  },
  {
   "cell_type": "code",
   "execution_count": null,
   "id": "36fc5a41",
   "metadata": {
    "id": "36fc5a41"
   },
   "outputs": [],
   "source": [
    "user_name = input('Username:')\n",
    "print('First Letter starts with ',user_name[0])"
   ]
  },
  {
   "cell_type": "markdown",
   "id": "6c096065",
   "metadata": {
    "id": "6c096065"
   },
   "source": [
    "## 2[e] Get 2 inputs from the user and display it."
   ]
  },
  {
   "cell_type": "code",
   "execution_count": null,
   "id": "497ac2b7",
   "metadata": {
    "id": "497ac2b7"
   },
   "outputs": [],
   "source": [
    "name=input('username:')\n",
    "age=input('age:')\n",
    "print('name is ',name, ',age is ',age)"
   ]
  },
  {
   "cell_type": "code",
   "execution_count": null,
   "id": "46425092",
   "metadata": {
    "id": "46425092"
   },
   "outputs": [],
   "source": [
    "name=input('Username:')\n",
    "age=input('Age:')\n",
    "print('Name is {} and Age is {}.'.format(name,age))"
   ]
  },
  {
   "cell_type": "markdown",
   "id": "6bba3bed",
   "metadata": {
    "id": "6bba3bed"
   },
   "source": [
    "## ======================================================================="
   ]
  },
  {
   "cell_type": "markdown",
   "id": "19a14ef6",
   "metadata": {
    "id": "19a14ef6"
   },
   "source": [
    "# Chapter 3 - Numbers in Python"
   ]
  },
  {
   "cell_type": "code",
   "execution_count": null,
   "id": "d6557c10",
   "metadata": {
    "id": "d6557c10",
    "outputId": "65f3478a-797e-4d39-e359-fb428609136f"
   },
   "outputs": [
    {
     "name": "stdout",
     "output_type": "stream",
     "text": [
      "Enter your marks : -100\n",
      "The marks is  100\n"
     ]
    }
   ],
   "source": [
    "user_marks = int(input('Enter your marks : '))\n",
    "print('The marks is ',abs(user_marks))"
   ]
  },
  {
   "cell_type": "markdown",
   "id": "8f0e809a",
   "metadata": {
    "id": "8f0e809a"
   },
   "source": [
    "## ======================================================================="
   ]
  },
  {
   "cell_type": "markdown",
   "id": "35f3619a",
   "metadata": {
    "id": "35f3619a"
   },
   "source": [
    "# Chapter 4 - Functions and loops\n",
    "\n",
    "There are 3 functions in Python:\n",
    "\n",
    "**1. Built-in function** - predefined functions that automatically comes when you install Anaconda Navigator.\n",
    "\n",
    "**2. Userdefined function** - user given function to accomplih a task.\n",
    "\n",
    "**3. Anonymous function** - nameless function used to perform one operation at once."
   ]
  },
  {
   "cell_type": "markdown",
   "id": "2d613862",
   "metadata": {
    "id": "2d613862"
   },
   "source": [
    "## 4[a] Write your own functions"
   ]
  },
  {
   "cell_type": "code",
   "execution_count": null,
   "id": "4a5c757b",
   "metadata": {
    "id": "4a5c757b"
   },
   "outputs": [],
   "source": [
    "#Function defintion\n",
    "def get_data():\n",
    "    print('Hi')\n",
    "    print('Welcome')"
   ]
  },
  {
   "cell_type": "code",
   "execution_count": null,
   "id": "efa355b0",
   "metadata": {
    "id": "efa355b0",
    "outputId": "f5023cac-373d-49f0-98dc-c4e9c08d5fb6"
   },
   "outputs": [
    {
     "name": "stdout",
     "output_type": "stream",
     "text": [
      "Hi\n",
      "Welcome\n"
     ]
    }
   ],
   "source": [
    "#Calling a function\n",
    "get_data()"
   ]
  },
  {
   "cell_type": "markdown",
   "id": "f3e880b5",
   "metadata": {
    "id": "f3e880b5"
   },
   "source": [
    "### Positional Arguments"
   ]
  },
  {
   "cell_type": "code",
   "execution_count": null,
   "id": "4ee7a80f",
   "metadata": {
    "id": "4ee7a80f"
   },
   "outputs": [],
   "source": [
    "def get_2_numbers(num1,num2): #Argument\n",
    "    return num1+num2"
   ]
  },
  {
   "cell_type": "code",
   "execution_count": null,
   "id": "4c7c922b",
   "metadata": {
    "id": "4c7c922b",
    "outputId": "702af235-5302-4dc2-8ef9-2b562bdcba2d"
   },
   "outputs": [
    {
     "data": {
      "text/plain": [
       "11"
      ]
     },
     "execution_count": 84,
     "metadata": {},
     "output_type": "execute_result"
    }
   ],
   "source": [
    "get_2_numbers(4,7) #Parameters"
   ]
  },
  {
   "cell_type": "code",
   "execution_count": null,
   "id": "9edffd1a",
   "metadata": {
    "id": "9edffd1a"
   },
   "outputs": [],
   "source": [
    "def get_2_numbers(num1,num2): #Argument\n",
    "    print(num1) \n",
    "    print(num2)\n",
    "    return num1+num2 #Termination point to afunction defintion"
   ]
  },
  {
   "cell_type": "code",
   "execution_count": null,
   "id": "dfb1ba4f",
   "metadata": {
    "id": "dfb1ba4f",
    "outputId": "f8d0fde8-b6a2-4dc9-a544-0fb996115fa6"
   },
   "outputs": [
    {
     "name": "stdout",
     "output_type": "stream",
     "text": [
      "4\n",
      "7\n"
     ]
    },
    {
     "data": {
      "text/plain": [
       "11"
      ]
     },
     "execution_count": 91,
     "metadata": {},
     "output_type": "execute_result"
    }
   ],
   "source": [
    "get_2_numbers(4,7)"
   ]
  },
  {
   "cell_type": "markdown",
   "id": "1e6c4be4",
   "metadata": {
    "id": "1e6c4be4"
   },
   "source": [
    "### Default Parameter"
   ]
  },
  {
   "cell_type": "code",
   "execution_count": null,
   "id": "4ad92037",
   "metadata": {
    "id": "4ad92037"
   },
   "outputs": [],
   "source": [
    "def get_emp_details_2(emp_no,ename,age,company = 'Google'):\n",
    "    print(\"***************************************************************\")\n",
    "    print('Employee ID   : ',emp_no)\n",
    "    print('Employee Name : ',ename)\n",
    "    print('Age           : ',age)\n",
    "    print('Workplace     : ',company)\n",
    "    print(\"***************************************************************\")"
   ]
  },
  {
   "cell_type": "code",
   "execution_count": null,
   "id": "5d4f528b",
   "metadata": {
    "id": "5d4f528b",
    "outputId": "d8e87a7d-f804-49f6-a6b4-84bc55cbd3e6"
   },
   "outputs": [
    {
     "name": "stdout",
     "output_type": "stream",
     "text": [
      "***************************************************************\n",
      "Employee ID   :  1\n",
      "Employee Name :  Natarajan\n",
      "Age           :  23\n",
      "Workplace     :  Google\n",
      "***************************************************************\n"
     ]
    }
   ],
   "source": [
    "get_emp_details_2(1,'Natarajan',23)"
   ]
  },
  {
   "cell_type": "code",
   "execution_count": null,
   "id": "a44898ee",
   "metadata": {
    "id": "a44898ee",
    "outputId": "4ac7eb1d-142d-4a9f-88de-c701a1db3ac8"
   },
   "outputs": [
    {
     "name": "stdout",
     "output_type": "stream",
     "text": [
      "***************************************************************\n",
      "Employee ID   :  2\n",
      "Employee Name :  Shefali\n",
      "Age           :  25\n",
      "Workplace     :  Google\n",
      "***************************************************************\n"
     ]
    }
   ],
   "source": [
    "get_emp_details_2(2,'Shefali',25)"
   ]
  },
  {
   "cell_type": "code",
   "execution_count": null,
   "id": "800abadf",
   "metadata": {
    "id": "800abadf",
    "outputId": "d31de678-8a9c-4f9e-afe2-817ae088ad4a"
   },
   "outputs": [
    {
     "name": "stdout",
     "output_type": "stream",
     "text": [
      "***************************************************************\n",
      "Employee ID   :  3\n",
      "Employee Name :  Amrutha\n",
      "Age           :  27\n",
      "Workplace     :  Google\n",
      "***************************************************************\n"
     ]
    }
   ],
   "source": [
    "get_emp_details_2(3,'Amrutha',27)"
   ]
  },
  {
   "cell_type": "code",
   "execution_count": null,
   "id": "f69ca8e2",
   "metadata": {
    "id": "f69ca8e2",
    "outputId": "1831da43-2f95-49b9-c63e-1abd66430a39"
   },
   "outputs": [
    {
     "name": "stdout",
     "output_type": "stream",
     "text": [
      "***************************************************************\n",
      "Employee ID   :  4\n",
      "Employee Name :  Khusbhu\n",
      "Age           :  26\n",
      "Workplace     :  Microsoft\n",
      "***************************************************************\n"
     ]
    }
   ],
   "source": [
    "get_emp_details_2(4,'Khusbhu',26,'Microsoft')"
   ]
  },
  {
   "cell_type": "markdown",
   "id": "6f803b8e",
   "metadata": {
    "id": "6f803b8e"
   },
   "source": [
    "### Variable-length Argument"
   ]
  },
  {
   "cell_type": "code",
   "execution_count": null,
   "id": "ea462e56",
   "metadata": {
    "id": "ea462e56"
   },
   "outputs": [],
   "source": [
    "def get_emp_details_3(emp_no,ename,age,*company):\n",
    "    print(\"***************************************************************\")\n",
    "    print('Employee ID   : ',emp_no)\n",
    "    print('Employee Name : ',ename)\n",
    "    print('Age           : ',age)\n",
    "    print('Workplace     : ',company)\n",
    "    print(\"***************************************************************\")"
   ]
  },
  {
   "cell_type": "code",
   "execution_count": null,
   "id": "63a96d8a",
   "metadata": {
    "id": "63a96d8a",
    "outputId": "e1435512-0068-4162-f3e3-a71edbfbc308"
   },
   "outputs": [
    {
     "name": "stdout",
     "output_type": "stream",
     "text": [
      "***************************************************************\n",
      "Employee ID   :  1\n",
      "Employee Name :  Natarajan\n",
      "Age           :  23\n",
      "Workplace     :  ('Google', 'IBM', 'Microsoft')\n",
      "***************************************************************\n"
     ]
    }
   ],
   "source": [
    "get_emp_details_3(1,'Natarajan',23,'Google','IBM','Microsoft')"
   ]
  },
  {
   "cell_type": "markdown",
   "id": "7ac2bdf3",
   "metadata": {
    "id": "7ac2bdf3"
   },
   "source": [
    "### Keyword- Argument"
   ]
  },
  {
   "cell_type": "code",
   "execution_count": null,
   "id": "90ef81c1",
   "metadata": {
    "id": "90ef81c1"
   },
   "outputs": [],
   "source": [
    "def get_emp_details_4(emp_no,ename,age,**company):\n",
    "    print(\"***************************************************************\")\n",
    "    print('Employee ID   : ',emp_no)\n",
    "    print('Employee Name : ',ename)\n",
    "    print('Age           : ',age)\n",
    "    print('Workplace     : ',company)\n",
    "    print(\"***************************************************************\")"
   ]
  },
  {
   "cell_type": "code",
   "execution_count": null,
   "id": "83536c56",
   "metadata": {
    "id": "83536c56",
    "outputId": "f3cff162-6306-4422-a383-cd7fd789f064"
   },
   "outputs": [
    {
     "name": "stdout",
     "output_type": "stream",
     "text": [
      "***************************************************************\n",
      "Employee ID   :  1\n",
      "Employee Name :  Natarajan\n",
      "Age           :  23\n",
      "Workplace     :  {'company_1': 'Google', 'company_2': 'IBM', 'company_3': 'Microsoft'}\n",
      "***************************************************************\n"
     ]
    }
   ],
   "source": [
    "get_emp_details_4(1,'Natarajan',23,company_1 = 'Google',company_2 = 'IBM',company_3 = 'Microsoft')"
   ]
  },
  {
   "cell_type": "markdown",
   "id": "921a4a98",
   "metadata": {
    "id": "921a4a98"
   },
   "source": [
    "### Having Variable-length and Keyword Argument in one function"
   ]
  },
  {
   "cell_type": "code",
   "execution_count": null,
   "id": "1af60e9b",
   "metadata": {
    "id": "1af60e9b"
   },
   "outputs": [],
   "source": [
    "def get_emp_details_5(emp_no,age,*ename,**company):\n",
    "    print(\"***************************************************************\")\n",
    "    print('Employee ID   : ',emp_no)\n",
    "    print('Employee Name : ',ename)\n",
    "    print('Age           : ',age)\n",
    "    print('Workplace     : ',company)\n",
    "    print(\"***************************************************************\")"
   ]
  },
  {
   "cell_type": "code",
   "execution_count": null,
   "id": "3542e3fe",
   "metadata": {
    "id": "3542e3fe",
    "outputId": "99da35ea-a95a-4ea2-b632-307bfbbc4069"
   },
   "outputs": [
    {
     "name": "stdout",
     "output_type": "stream",
     "text": [
      "***************************************************************\n",
      "Employee ID   :  1\n",
      "Employee Name :  ('Natarajan', 'Bhupendra', 'jamuna')\n",
      "Age           :  23\n",
      "Workplace     :  {'company_1': 'Google', 'company_2': 'IBM', 'company_3': 'Microsoft'}\n",
      "***************************************************************\n"
     ]
    }
   ],
   "source": [
    "get_emp_details_5(1,23,'Natarajan','Bhupendra','jamuna',company_1 = 'Google',company_2 = 'IBM',company_3 = 'Microsoft')"
   ]
  },
  {
   "cell_type": "markdown",
   "id": "a979090a",
   "metadata": {
    "id": "a979090a"
   },
   "source": [
    "## 4[b] Run in circles"
   ]
  },
  {
   "cell_type": "code",
   "execution_count": null,
   "id": "a94af83d",
   "metadata": {
    "id": "a94af83d",
    "outputId": "0fb545e9-7bca-4d5d-a4c4-c0cf8066f68c"
   },
   "outputs": [
    {
     "name": "stdout",
     "output_type": "stream",
     "text": [
      "1\n",
      "1\n",
      "----------------\n",
      "3\n",
      "9\n",
      "----------------\n",
      "5\n",
      "25\n",
      "----------------\n",
      "7\n",
      "49\n",
      "----------------\n",
      "9\n",
      "81\n",
      "----------------\n",
      "11\n",
      "121\n",
      "----------------\n",
      "13\n",
      "169\n",
      "----------------\n",
      "15\n",
      "225\n",
      "----------------\n",
      "17\n",
      "289\n",
      "----------------\n",
      "19\n",
      "361\n",
      "----------------\n"
     ]
    }
   ],
   "source": [
    "for i in range(1,21,2):\n",
    "    print(i)\n",
    "    print(i*i)\n",
    "    print('----------------')"
   ]
  },
  {
   "cell_type": "markdown",
   "id": "8768a43a",
   "metadata": {
    "id": "8768a43a"
   },
   "source": [
    "## ======================================================================="
   ]
  }
 ],
 "metadata": {
  "colab": {
   "name": "Python_Programming.ipynb",
   "provenance": []
  },
  "kernelspec": {
   "display_name": "Python 3 (ipykernel)",
   "language": "python",
   "name": "python3"
  },
  "language_info": {
   "codemirror_mode": {
    "name": "ipython",
    "version": 3
   },
   "file_extension": ".py",
   "mimetype": "text/x-python",
   "name": "python",
   "nbconvert_exporter": "python",
   "pygments_lexer": "ipython3",
   "version": "3.10.7"
  }
 },
 "nbformat": 4,
 "nbformat_minor": 5
}
